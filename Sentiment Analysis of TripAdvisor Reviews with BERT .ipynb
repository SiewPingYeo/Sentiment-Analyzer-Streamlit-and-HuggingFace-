{
 "cells": [
  {
   "cell_type": "markdown",
   "id": "7df41290",
   "metadata": {},
   "source": [
    "# Using BERT model for Sentiment Analysis for TripAdvisor Reviews "
   ]
  },
  {
   "cell_type": "markdown",
   "id": "754c34f0",
   "metadata": {},
   "source": [
    "### 1. Load relevant libraries\n"
   ]
  },
  {
   "cell_type": "code",
   "execution_count": 5,
   "id": "3ecc7fb6",
   "metadata": {},
   "outputs": [],
   "source": [
    "from transformers import AutoTokenizer, AutoModelForSequenceClassification\n",
    "import torch \n",
    "import re\n",
    "\n",
    "import pandas as pd \n",
    "import numpy as np "
   ]
  },
  {
   "cell_type": "markdown",
   "id": "cdcfe643",
   "metadata": {},
   "source": [
    "### 2. Instantiate Model"
   ]
  },
  {
   "cell_type": "code",
   "execution_count": 48,
   "id": "29970c15",
   "metadata": {},
   "outputs": [],
   "source": [
    "tokenizer = AutoTokenizer.from_pretrained('nlptown/bert-base-multilingual-uncased-sentiment')\n",
    "model = AutoModelForSequenceClassification.from_pretrained ('nlptown/bert-base-multilingual-uncased-sentiment')"
   ]
  },
  {
   "cell_type": "markdown",
   "id": "729ecbc5",
   "metadata": {},
   "source": [
    "### 3. Encode and Calculate Sentiment"
   ]
  },
  {
   "cell_type": "code",
   "execution_count": 43,
   "id": "f53c0889",
   "metadata": {},
   "outputs": [],
   "source": [
    "tokens = tokenizer.encode ('not as bad', return_tensors = 'pt')"
   ]
  },
  {
   "cell_type": "code",
   "execution_count": 44,
   "id": "c0ed02b7",
   "metadata": {},
   "outputs": [],
   "source": [
    "result = model(tokens)"
   ]
  },
  {
   "cell_type": "code",
   "execution_count": 45,
   "id": "dc2c1084",
   "metadata": {},
   "outputs": [
    {
     "data": {
      "text/plain": [
       "SequenceClassifierOutput(loss=None, logits=tensor([[-1.0146,  0.7619,  2.3528,  0.3902, -1.8820]],\n",
       "       grad_fn=<AddmmBackward0>), hidden_states=None, attentions=None)"
      ]
     },
     "execution_count": 45,
     "metadata": {},
     "output_type": "execute_result"
    }
   ],
   "source": [
    "result"
   ]
  },
  {
   "cell_type": "code",
   "execution_count": 46,
   "id": "54c49122",
   "metadata": {},
   "outputs": [
    {
     "data": {
      "text/plain": [
       "tensor([[-1.0146,  0.7619,  2.3528,  0.3902, -1.8820]],\n",
       "       grad_fn=<AddmmBackward0>)"
      ]
     },
     "execution_count": 46,
     "metadata": {},
     "output_type": "execute_result"
    }
   ],
   "source": [
    "result.logits"
   ]
  },
  {
   "cell_type": "code",
   "execution_count": 47,
   "id": "2f92cf7e",
   "metadata": {},
   "outputs": [
    {
     "data": {
      "text/plain": [
       "3"
      ]
     },
     "execution_count": 47,
     "metadata": {},
     "output_type": "execute_result"
    }
   ],
   "source": [
    "int(torch.argmax(result.logits))+1"
   ]
  },
  {
   "cell_type": "markdown",
   "id": "91e54ece",
   "metadata": {},
   "source": [
    "### 4. Load TripAdvisor Reviews "
   ]
  },
  {
   "cell_type": "code",
   "execution_count": 49,
   "id": "0ee1f06f",
   "metadata": {},
   "outputs": [],
   "source": [
    "df = pd.read_csv('Reviews TA.csv')"
   ]
  },
  {
   "cell_type": "code",
   "execution_count": 51,
   "id": "71db4105",
   "metadata": {},
   "outputs": [
    {
     "name": "stdout",
     "output_type": "stream",
     "text": [
      "<class 'pandas.core.frame.DataFrame'>\n",
      "RangeIndex: 13465 entries, 0 to 13464\n",
      "Data columns (total 4 columns):\n",
      " #   Column  Non-Null Count  Dtype \n",
      "---  ------  --------------  ----- \n",
      " 0   Date    13465 non-null  object\n",
      " 1   Title   13464 non-null  object\n",
      " 2   Review  13465 non-null  object\n",
      " 3   Rating  13465 non-null  int64 \n",
      "dtypes: int64(1), object(3)\n",
      "memory usage: 420.9+ KB\n"
     ]
    }
   ],
   "source": [
    "df.info()"
   ]
  },
  {
   "cell_type": "code",
   "execution_count": 53,
   "id": "f4842a86",
   "metadata": {},
   "outputs": [],
   "source": [
    "reviews= df.drop(['Date', 'Title', 'Rating'], axis = 1)"
   ]
  },
  {
   "cell_type": "code",
   "execution_count": 55,
   "id": "312c13ed",
   "metadata": {},
   "outputs": [
    {
     "data": {
      "text/html": [
       "<div>\n",
       "<style scoped>\n",
       "    .dataframe tbody tr th:only-of-type {\n",
       "        vertical-align: middle;\n",
       "    }\n",
       "\n",
       "    .dataframe tbody tr th {\n",
       "        vertical-align: top;\n",
       "    }\n",
       "\n",
       "    .dataframe thead th {\n",
       "        text-align: right;\n",
       "    }\n",
       "</style>\n",
       "<table border=\"1\" class=\"dataframe\">\n",
       "  <thead>\n",
       "    <tr style=\"text-align: right;\">\n",
       "      <th></th>\n",
       "      <th>Review</th>\n",
       "    </tr>\n",
       "  </thead>\n",
       "  <tbody>\n",
       "    <tr>\n",
       "      <th>0</th>\n",
       "      <td>Very good location. Reasonable price. The room...</td>\n",
       "    </tr>\n",
       "    <tr>\n",
       "      <th>1</th>\n",
       "      <td>We stayed in this hotel just before Christmas ...</td>\n",
       "    </tr>\n",
       "    <tr>\n",
       "      <th>2</th>\n",
       "      <td>Pleasant staff and security in place. Stayed h...</td>\n",
       "    </tr>\n",
       "    <tr>\n",
       "      <th>3</th>\n",
       "      <td>Pricing was okay. Very noisy, small room. The ...</td>\n",
       "    </tr>\n",
       "    <tr>\n",
       "      <th>4</th>\n",
       "      <td>Rooms are filthy, elevators are dangerous and ...</td>\n",
       "    </tr>\n",
       "  </tbody>\n",
       "</table>\n",
       "</div>"
      ],
      "text/plain": [
       "                                              Review\n",
       "0  Very good location. Reasonable price. The room...\n",
       "1  We stayed in this hotel just before Christmas ...\n",
       "2  Pleasant staff and security in place. Stayed h...\n",
       "3  Pricing was okay. Very noisy, small room. The ...\n",
       "4  Rooms are filthy, elevators are dangerous and ..."
      ]
     },
     "execution_count": 55,
     "metadata": {},
     "output_type": "execute_result"
    }
   ],
   "source": [
    "reviews.head()"
   ]
  },
  {
   "cell_type": "code",
   "execution_count": 58,
   "id": "bd8c26a3",
   "metadata": {},
   "outputs": [],
   "source": [
    "def sentiment_score(review):\n",
    "    tokens = tokenizer.encode (review, return_tensors = 'pt')\n",
    "    result = model(tokens)\n",
    "    result = int(torch.argmax(result.logits))+1\n",
    "    \n",
    "    if result == 1 or result == 2:\n",
    "        return 'Negative'\n",
    "    elif result == 3:\n",
    "        return 'Neutral'\n",
    "    else:\n",
    "        return 'Positive'"
   ]
  },
  {
   "cell_type": "code",
   "execution_count": null,
   "id": "2114ccfc",
   "metadata": {},
   "outputs": [],
   "source": [
    "reviews['Sentiment'] = reviews['Review'].apply(sentiment_score)"
   ]
  },
  {
   "cell_type": "code",
   "execution_count": 67,
   "id": "9601109c",
   "metadata": {},
   "outputs": [
    {
     "data": {
      "text/plain": [
       "'Neutral'"
      ]
     },
     "execution_count": 67,
     "metadata": {},
     "output_type": "execute_result"
    }
   ],
   "source": [
    "sentiment_score(' Hi you are not that lousy')"
   ]
  },
  {
   "cell_type": "code",
   "execution_count": null,
   "id": "9dfc1ecf",
   "metadata": {},
   "outputs": [],
   "source": []
  }
 ],
 "metadata": {
  "kernelspec": {
   "display_name": "Python 3",
   "language": "python",
   "name": "python3"
  },
  "language_info": {
   "codemirror_mode": {
    "name": "ipython",
    "version": 3
   },
   "file_extension": ".py",
   "mimetype": "text/x-python",
   "name": "python",
   "nbconvert_exporter": "python",
   "pygments_lexer": "ipython3",
   "version": "3.8.8"
  }
 },
 "nbformat": 4,
 "nbformat_minor": 5
}
