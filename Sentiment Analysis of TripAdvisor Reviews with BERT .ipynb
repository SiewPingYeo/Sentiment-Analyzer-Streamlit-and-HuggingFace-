{
 "cells": [
  {
   "cell_type": "markdown",
   "id": "d1d2b2e6",
   "metadata": {},
   "source": [
    "# Using BERT model for Sentiment Analysis for TripAdvisor Reviews \n",
    "\n",
    "Using the BERT model form HuggingFace is an extremely convenient way of doing sentiment analysis for your data. It can be used for data that are unlabeled and BERT as a pre-trained model will generate the sentiments for the unlabelled dataset. "
   ]
  },
  {
   "cell_type": "markdown",
   "id": "4d64d780",
   "metadata": {},
   "source": [
    "### 1. Load relevant libraries\n"
   ]
  },
  {
   "cell_type": "code",
   "execution_count": 1,
   "id": "3ecc7fb6",
   "metadata": {},
   "outputs": [],
   "source": [
    "from transformers import AutoTokenizer, AutoModelForSequenceClassification\n",
    "import torch \n",
    "import re\n",
    "\n",
    "import pandas as pd \n",
    "import numpy as np "
   ]
  },
  {
   "cell_type": "markdown",
   "id": "d69e6f38",
   "metadata": {},
   "source": [
    "### 2. Instantiate Model"
   ]
  },
  {
   "cell_type": "code",
   "execution_count": 2,
   "id": "29970c15",
   "metadata": {},
   "outputs": [],
   "source": [
    "tokenizer = AutoTokenizer.from_pretrained('nlptown/bert-base-multilingual-uncased-sentiment')\n",
    "model = AutoModelForSequenceClassification.from_pretrained ('nlptown/bert-base-multilingual-uncased-sentiment')"
   ]
  },
  {
   "cell_type": "markdown",
   "id": "b49d9ed2",
   "metadata": {},
   "source": [
    "### 3. Encode and Calculate Sentiment"
   ]
  },
  {
   "cell_type": "code",
   "execution_count": 3,
   "id": "fb8930cd",
   "metadata": {},
   "outputs": [],
   "source": [
    "tokens = tokenizer.encode ('not as bad', return_tensors = 'pt')"
   ]
  },
  {
   "cell_type": "code",
   "execution_count": 4,
   "id": "c6d9c389",
   "metadata": {},
   "outputs": [],
   "source": [
    "result = model(tokens)"
   ]
  },
  {
   "cell_type": "code",
   "execution_count": 5,
   "id": "455c61e0",
   "metadata": {},
   "outputs": [
    {
     "data": {
      "text/plain": [
       "SequenceClassifierOutput(loss=None, logits=tensor([[-1.0146,  0.7619,  2.3528,  0.3902, -1.8820]],\n",
       "       grad_fn=<AddmmBackward0>), hidden_states=None, attentions=None)"
      ]
     },
     "execution_count": 5,
     "metadata": {},
     "output_type": "execute_result"
    }
   ],
   "source": [
    "result"
   ]
  },
  {
   "cell_type": "code",
   "execution_count": 6,
   "id": "4235d274",
   "metadata": {},
   "outputs": [
    {
     "data": {
      "text/plain": [
       "tensor([[-1.0146,  0.7619,  2.3528,  0.3902, -1.8820]],\n",
       "       grad_fn=<AddmmBackward0>)"
      ]
     },
     "execution_count": 6,
     "metadata": {},
     "output_type": "execute_result"
    }
   ],
   "source": [
    "result.logits"
   ]
  },
  {
   "cell_type": "code",
   "execution_count": 7,
   "id": "f2d5764c",
   "metadata": {},
   "outputs": [
    {
     "data": {
      "text/plain": [
       "3"
      ]
     },
     "execution_count": 7,
     "metadata": {},
     "output_type": "execute_result"
    }
   ],
   "source": [
    "int(torch.argmax(result.logits))+1"
   ]
  },
  {
   "cell_type": "markdown",
   "id": "872f58a8",
   "metadata": {},
   "source": [
    "### 4. Load TripAdvisor Reviews \n",
    "\n",
    "These reviews are scraped from TripAdvisor website for ROW NYC hotel in New York City. You may refer to the code in the repository - Scraping TripAdvisor Reviews using Selenium on the web scraping process."
   ]
  },
  {
   "cell_type": "code",
   "execution_count": 8,
   "id": "001a0a57",
   "metadata": {},
   "outputs": [],
   "source": [
    "df = pd.read_csv('Reviews TA.csv')"
   ]
  },
  {
   "cell_type": "code",
   "execution_count": 9,
   "id": "1c46578d",
   "metadata": {},
   "outputs": [
    {
     "name": "stdout",
     "output_type": "stream",
     "text": [
      "<class 'pandas.core.frame.DataFrame'>\n",
      "RangeIndex: 13465 entries, 0 to 13464\n",
      "Data columns (total 4 columns):\n",
      " #   Column  Non-Null Count  Dtype \n",
      "---  ------  --------------  ----- \n",
      " 0   Date    13465 non-null  object\n",
      " 1   Title   13464 non-null  object\n",
      " 2   Review  13465 non-null  object\n",
      " 3   Rating  13465 non-null  int64 \n",
      "dtypes: int64(1), object(3)\n",
      "memory usage: 420.9+ KB\n"
     ]
    }
   ],
   "source": [
    "df.info()"
   ]
  },
  {
   "cell_type": "code",
   "execution_count": 10,
   "id": "5c493b30",
   "metadata": {},
   "outputs": [],
   "source": [
    "reviews= df.drop(['Date', 'Title', 'Rating'], axis = 1)"
   ]
  },
  {
   "cell_type": "code",
   "execution_count": 11,
   "id": "d7b17572",
   "metadata": {},
   "outputs": [
    {
     "data": {
      "text/html": [
       "<div>\n",
       "<style scoped>\n",
       "    .dataframe tbody tr th:only-of-type {\n",
       "        vertical-align: middle;\n",
       "    }\n",
       "\n",
       "    .dataframe tbody tr th {\n",
       "        vertical-align: top;\n",
       "    }\n",
       "\n",
       "    .dataframe thead th {\n",
       "        text-align: right;\n",
       "    }\n",
       "</style>\n",
       "<table border=\"1\" class=\"dataframe\">\n",
       "  <thead>\n",
       "    <tr style=\"text-align: right;\">\n",
       "      <th></th>\n",
       "      <th>Review</th>\n",
       "    </tr>\n",
       "  </thead>\n",
       "  <tbody>\n",
       "    <tr>\n",
       "      <th>0</th>\n",
       "      <td>Very good location. Reasonable price. The room...</td>\n",
       "    </tr>\n",
       "    <tr>\n",
       "      <th>1</th>\n",
       "      <td>We stayed in this hotel just before Christmas ...</td>\n",
       "    </tr>\n",
       "    <tr>\n",
       "      <th>2</th>\n",
       "      <td>Pleasant staff and security in place. Stayed h...</td>\n",
       "    </tr>\n",
       "    <tr>\n",
       "      <th>3</th>\n",
       "      <td>Pricing was okay. Very noisy, small room. The ...</td>\n",
       "    </tr>\n",
       "    <tr>\n",
       "      <th>4</th>\n",
       "      <td>Rooms are filthy, elevators are dangerous and ...</td>\n",
       "    </tr>\n",
       "  </tbody>\n",
       "</table>\n",
       "</div>"
      ],
      "text/plain": [
       "                                              Review\n",
       "0  Very good location. Reasonable price. The room...\n",
       "1  We stayed in this hotel just before Christmas ...\n",
       "2  Pleasant staff and security in place. Stayed h...\n",
       "3  Pricing was okay. Very noisy, small room. The ...\n",
       "4  Rooms are filthy, elevators are dangerous and ..."
      ]
     },
     "execution_count": 11,
     "metadata": {},
     "output_type": "execute_result"
    }
   ],
   "source": [
    "reviews.head()"
   ]
  },
  {
   "cell_type": "markdown",
   "id": "ef9b64d0",
   "metadata": {},
   "source": [
    "Create a function to perform tokenisation and encoding for the review input. As the output from the BERT Model range form 1-5, those rated 1 and 2 will be considered as negative , those 3 will be neutral and those rated 4 -5 will be positive. "
   ]
  },
  {
   "cell_type": "code",
   "execution_count": 19,
   "id": "2ccbb7ac",
   "metadata": {},
   "outputs": [],
   "source": [
    "def sentiment_score(review):\n",
    "    tokens = tokenizer.encode (review, return_tensors = 'pt', max_length = 250, truncation = True)\n",
    "    result = model(tokens)\n",
    "    result = int(torch.argmax(result.logits))+1\n",
    "    \n",
    "    if result == 1 or result == 2:\n",
    "        return 'Negative'\n",
    "    elif result == 3:\n",
    "        return 'Neutral'\n",
    "    else:\n",
    "        return 'Positive'"
   ]
  },
  {
   "cell_type": "code",
   "execution_count": 20,
   "id": "2980e2aa",
   "metadata": {},
   "outputs": [],
   "source": [
    "#Applying the function to the entire dataset of 13465 reviews \n",
    "reviews['Sentiment'] = reviews['Review'].astype(str).apply(sentiment_score)"
   ]
  },
  {
   "cell_type": "code",
   "execution_count": 21,
   "id": "dc8727b0",
   "metadata": {},
   "outputs": [
    {
     "data": {
      "text/html": [
       "<div>\n",
       "<style scoped>\n",
       "    .dataframe tbody tr th:only-of-type {\n",
       "        vertical-align: middle;\n",
       "    }\n",
       "\n",
       "    .dataframe tbody tr th {\n",
       "        vertical-align: top;\n",
       "    }\n",
       "\n",
       "    .dataframe thead th {\n",
       "        text-align: right;\n",
       "    }\n",
       "</style>\n",
       "<table border=\"1\" class=\"dataframe\">\n",
       "  <thead>\n",
       "    <tr style=\"text-align: right;\">\n",
       "      <th></th>\n",
       "      <th>Review</th>\n",
       "      <th>Sentiment</th>\n",
       "    </tr>\n",
       "  </thead>\n",
       "  <tbody>\n",
       "    <tr>\n",
       "      <th>0</th>\n",
       "      <td>Very good location. Reasonable price. The room...</td>\n",
       "      <td>Positive</td>\n",
       "    </tr>\n",
       "    <tr>\n",
       "      <th>1</th>\n",
       "      <td>We stayed in this hotel just before Christmas ...</td>\n",
       "      <td>Positive</td>\n",
       "    </tr>\n",
       "    <tr>\n",
       "      <th>2</th>\n",
       "      <td>Pleasant staff and security in place. Stayed h...</td>\n",
       "      <td>Positive</td>\n",
       "    </tr>\n",
       "    <tr>\n",
       "      <th>3</th>\n",
       "      <td>Pricing was okay. Very noisy, small room. The ...</td>\n",
       "      <td>Negative</td>\n",
       "    </tr>\n",
       "    <tr>\n",
       "      <th>4</th>\n",
       "      <td>Rooms are filthy, elevators are dangerous and ...</td>\n",
       "      <td>Negative</td>\n",
       "    </tr>\n",
       "    <tr>\n",
       "      <th>...</th>\n",
       "      <td>...</td>\n",
       "      <td>...</td>\n",
       "    </tr>\n",
       "    <tr>\n",
       "      <th>13460</th>\n",
       "      <td>This was my first time to New York and we know...</td>\n",
       "      <td>Positive</td>\n",
       "    </tr>\n",
       "    <tr>\n",
       "      <th>13461</th>\n",
       "      <td>This is a great place in Time Square area to s...</td>\n",
       "      <td>Positive</td>\n",
       "    </tr>\n",
       "    <tr>\n",
       "      <th>13462</th>\n",
       "      <td>This was my first time visiting this hotel and...</td>\n",
       "      <td>Positive</td>\n",
       "    </tr>\n",
       "    <tr>\n",
       "      <th>13463</th>\n",
       "      <td>Not my first time in NYC, but it's my first ti...</td>\n",
       "      <td>Positive</td>\n",
       "    </tr>\n",
       "    <tr>\n",
       "      <th>13464</th>\n",
       "      <td>The worst service, you have to pay mandatory $...</td>\n",
       "      <td>Negative</td>\n",
       "    </tr>\n",
       "  </tbody>\n",
       "</table>\n",
       "<p>13465 rows × 2 columns</p>\n",
       "</div>"
      ],
      "text/plain": [
       "                                                  Review Sentiment\n",
       "0      Very good location. Reasonable price. The room...  Positive\n",
       "1      We stayed in this hotel just before Christmas ...  Positive\n",
       "2      Pleasant staff and security in place. Stayed h...  Positive\n",
       "3      Pricing was okay. Very noisy, small room. The ...  Negative\n",
       "4      Rooms are filthy, elevators are dangerous and ...  Negative\n",
       "...                                                  ...       ...\n",
       "13460  This was my first time to New York and we know...  Positive\n",
       "13461  This is a great place in Time Square area to s...  Positive\n",
       "13462  This was my first time visiting this hotel and...  Positive\n",
       "13463  Not my first time in NYC, but it's my first ti...  Positive\n",
       "13464  The worst service, you have to pay mandatory $...  Negative\n",
       "\n",
       "[13465 rows x 2 columns]"
      ]
     },
     "execution_count": 21,
     "metadata": {},
     "output_type": "execute_result"
    }
   ],
   "source": [
    "# Output of the BERT Model \n",
    "reviews"
   ]
  },
  {
   "cell_type": "markdown",
   "id": "bbec6d9c",
   "metadata": {},
   "source": [
    "To get sentiment of an individual document"
   ]
  },
  {
   "cell_type": "code",
   "execution_count": 22,
   "id": "25295a8c",
   "metadata": {},
   "outputs": [
    {
     "data": {
      "text/plain": [
       "'Neutral'"
      ]
     },
     "execution_count": 22,
     "metadata": {},
     "output_type": "execute_result"
    }
   ],
   "source": [
    "sentiment_score(' Hi you are not that lousy')"
   ]
  }
 ],
 "metadata": {
  "kernelspec": {
   "display_name": "Python 3",
   "language": "python",
   "name": "python3"
  }
 },
 "nbformat": 4,
 "nbformat_minor": 5
}
